{
 "cells": [
  {
   "cell_type": "code",
   "execution_count": null,
   "metadata": {},
   "outputs": [],
   "source": [
    "!pip install opencv-python"
   ]
  },
  {
   "cell_type": "code",
   "execution_count": null,
   "metadata": {},
   "outputs": [],
   "source": [
    "import cv2\n",
    "import sys"
   ]
  },
  {
   "cell_type": "code",
   "execution_count": null,
   "metadata": {},
   "outputs": [],
   "source": [
    "image=cv2.imread(\"damon.jpg\")\n",
    "grayImage = cv2.cvtColor(image, cv2.COLOR_BGR2GRAY)\n",
    "grayImageInv = 255-grayImage\n",
    "grayImageInv = cv2.GaussianBlur(grayImageInv, (61,61), 0) #adjust according to your need.\n",
    "output = cv2.divide(grayImage, 255-grayImageInv, scale=256.0) #adjust according to your need.\n",
    "cv2.namedWindow(\"image\", cv2.WINDOW_AUTOSIZE)\n",
    "cv2.namedWindow(\"pencilsketch\", cv2.WINDOW_AUTOSIZE)\n",
    "cv2.imshow(\"image\", image)\n",
    "cv2.imshow(\"pencilsketch\", output)\n",
    "cv2.imwrite(\"Output.jpg\",output)\n",
    "cv2.waitKey(0)\n",
    "cv2.destroyAllWindows()"
   ]
  }
 ],
 "metadata": {
  "kernelspec": {
   "display_name": "Python 3",
   "language": "python",
   "name": "python3"
  },
  "language_info": {
   "codemirror_mode": {
    "name": "ipython",
    "version": 3
   },
   "file_extension": ".py",
   "mimetype": "text/x-python",
   "name": "python",
   "nbconvert_exporter": "python",
   "pygments_lexer": "ipython3",
   "version": "3.7.6"
  }
 },
 "nbformat": 4,
 "nbformat_minor": 4
}
